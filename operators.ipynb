{
 "cells": [
  {
   "cell_type": "markdown",
   "id": "6d0c391d-7744-4741-97a3-9ed3e38cee87",
   "metadata": {},
   "source": [
    "## Operators in Python\n",
    "\n",
    "# 1) Arithmetic Operator (+,-,*,%....)\r",
    "# \n",
    "2) Relational Operator (<,>,==,!=)# \r\n",
    "3) Assignment Operator (=,+=,-=,**=# )\r\n",
    "4) Logical Operator (True, False, and, or no# t)\r\n",
    "5)memebership Operator (in, not # in)\r\n",
    "6) Identity Operator (is, isnot)\r\n"
   ]
  },
  {
   "cell_type": "code",
   "execution_count": 4,
   "id": "0ec2f7bf-6b95-4da3-8e7e-f170410b94a7",
   "metadata": {},
   "outputs": [],
   "source": [
    "a = 10\n",
    "b = 2"
   ]
  },
  {
   "cell_type": "code",
   "execution_count": 6,
   "id": "26644cd7-c33c-4670-a97d-cf84b0066d8b",
   "metadata": {},
   "outputs": [
    {
     "data": {
      "text/plain": [
       "12"
      ]
     },
     "execution_count": 6,
     "metadata": {},
     "output_type": "execute_result"
    }
   ],
   "source": [
    "a + b"
   ]
  },
  {
   "cell_type": "code",
   "execution_count": 8,
   "id": "53e538bc-d36c-4173-aa26-6a613dfdf435",
   "metadata": {},
   "outputs": [
    {
     "name": "stdout",
     "output_type": "stream",
     "text": [
      "12\n"
     ]
    }
   ],
   "source": [
    "print(a+b)"
   ]
  },
  {
   "cell_type": "code",
   "execution_count": 10,
   "id": "03d0a2d9-3d85-4c81-99a9-6e0042426dd1",
   "metadata": {},
   "outputs": [
    {
     "data": {
      "text/plain": [
       "8"
      ]
     },
     "execution_count": 10,
     "metadata": {},
     "output_type": "execute_result"
    }
   ],
   "source": [
    "a - b"
   ]
  },
  {
   "cell_type": "code",
   "execution_count": 12,
   "id": "46351cb9-83cd-43e9-97cc-4c74f3a55466",
   "metadata": {},
   "outputs": [
    {
     "data": {
      "text/plain": [
       "20"
      ]
     },
     "execution_count": 12,
     "metadata": {},
     "output_type": "execute_result"
    }
   ],
   "source": [
    "a * b"
   ]
  },
  {
   "cell_type": "code",
   "execution_count": 14,
   "id": "667b07c2-8239-46af-b95c-271fd76cd3ba",
   "metadata": {},
   "outputs": [
    {
     "data": {
      "text/plain": [
       "100"
      ]
     },
     "execution_count": 14,
     "metadata": {},
     "output_type": "execute_result"
    }
   ],
   "source": [
    "a ** b"
   ]
  },
  {
   "cell_type": "code",
   "execution_count": 16,
   "id": "72cfbf3c-5bef-413d-ae2b-4d1233b697de",
   "metadata": {},
   "outputs": [
    {
     "data": {
      "text/plain": [
       "5.0"
      ]
     },
     "execution_count": 16,
     "metadata": {},
     "output_type": "execute_result"
    }
   ],
   "source": [
    "a / b"
   ]
  },
  {
   "cell_type": "code",
   "execution_count": 18,
   "id": "e9f3bf1c-07c4-408b-9b74-94237f17e90f",
   "metadata": {},
   "outputs": [
    {
     "data": {
      "text/plain": [
       "5"
      ]
     },
     "execution_count": 18,
     "metadata": {},
     "output_type": "execute_result"
    }
   ],
   "source": [
    "a//b"
   ]
  },
  {
   "cell_type": "code",
   "execution_count": 20,
   "id": "00076d88-6be6-4a66-b336-87badbf60670",
   "metadata": {},
   "outputs": [
    {
     "data": {
      "text/plain": [
       "0"
      ]
     },
     "execution_count": 20,
     "metadata": {},
     "output_type": "execute_result"
    }
   ],
   "source": [
    "a%b"
   ]
  },
  {
   "cell_type": "markdown",
   "id": "4192ef04-3d41-4a20-8846-9c1b52681c2d",
   "metadata": {},
   "source": [
    "#### Relational Operator (<,>,==,!=)"
   ]
  },
  {
   "cell_type": "code",
   "execution_count": 100,
   "id": "2e4e7131-6419-4db9-b91a-26129d90b6af",
   "metadata": {},
   "outputs": [
    {
     "data": {
      "text/plain": [
       "False"
      ]
     },
     "execution_count": 100,
     "metadata": {},
     "output_type": "execute_result"
    }
   ],
   "source": [
    "a < b"
   ]
  },
  {
   "cell_type": "code",
   "execution_count": 25,
   "id": "7de7496d-89d4-4771-af70-d8f0e19d6ff0",
   "metadata": {},
   "outputs": [
    {
     "data": {
      "text/plain": [
       "True"
      ]
     },
     "execution_count": 25,
     "metadata": {},
     "output_type": "execute_result"
    }
   ],
   "source": [
    "a > b"
   ]
  },
  {
   "cell_type": "code",
   "execution_count": 27,
   "id": "7690057d-8ec9-4791-9750-05714d1dfe71",
   "metadata": {},
   "outputs": [
    {
     "data": {
      "text/plain": [
       "False"
      ]
     },
     "execution_count": 27,
     "metadata": {},
     "output_type": "execute_result"
    }
   ],
   "source": [
    "a == b"
   ]
  },
  {
   "cell_type": "code",
   "execution_count": 29,
   "id": "7af4468f-030d-4a4c-8545-31c1dd6bd04e",
   "metadata": {},
   "outputs": [
    {
     "data": {
      "text/plain": [
       "True"
      ]
     },
     "execution_count": 29,
     "metadata": {},
     "output_type": "execute_result"
    }
   ],
   "source": [
    "a != b"
   ]
  },
  {
   "cell_type": "code",
   "execution_count": 31,
   "id": "af469314-c391-4f09-86c0-be57e2dc618d",
   "metadata": {},
   "outputs": [],
   "source": [
    "### Assignment Operator (=,+=,-=,**=)"
   ]
  },
  {
   "cell_type": "code",
   "execution_count": 33,
   "id": "92b0f474-29b7-4a47-a802-cb142e3d532d",
   "metadata": {},
   "outputs": [],
   "source": [
    "c = 10"
   ]
  },
  {
   "cell_type": "code",
   "execution_count": 35,
   "id": "c275fc0d-23f1-4f54-a557-25d7c03e8ebe",
   "metadata": {},
   "outputs": [],
   "source": [
    "c = c + 2"
   ]
  },
  {
   "cell_type": "code",
   "execution_count": 37,
   "id": "38be7451-0ee3-490b-816d-d71ccf8a6737",
   "metadata": {},
   "outputs": [
    {
     "data": {
      "text/plain": [
       "12"
      ]
     },
     "execution_count": 37,
     "metadata": {},
     "output_type": "execute_result"
    }
   ],
   "source": [
    "c"
   ]
  },
  {
   "cell_type": "code",
   "execution_count": 39,
   "id": "239155d3-a660-42d2-8825-98901075d1ce",
   "metadata": {},
   "outputs": [
    {
     "data": {
      "text/plain": [
       "15"
      ]
     },
     "execution_count": 39,
     "metadata": {},
     "output_type": "execute_result"
    }
   ],
   "source": [
    "c += 3\n",
    "c"
   ]
  },
  {
   "cell_type": "code",
   "execution_count": 41,
   "id": "4c7719a2-16bb-4ce6-8388-6980b8d5aceb",
   "metadata": {},
   "outputs": [
    {
     "data": {
      "text/plain": [
       "15"
      ]
     },
     "execution_count": 41,
     "metadata": {},
     "output_type": "execute_result"
    }
   ],
   "source": [
    "c -+ 3\n",
    "c"
   ]
  },
  {
   "cell_type": "code",
   "execution_count": 43,
   "id": "7ef98d39-0647-4ddf-9827-4a2b4ccb7967",
   "metadata": {},
   "outputs": [],
   "source": [
    "c -= 3"
   ]
  },
  {
   "cell_type": "code",
   "execution_count": 45,
   "id": "d8ceee33-d523-4136-a23f-5554b96a1f88",
   "metadata": {},
   "outputs": [
    {
     "data": {
      "text/plain": [
       "12"
      ]
     },
     "execution_count": 45,
     "metadata": {},
     "output_type": "execute_result"
    }
   ],
   "source": [
    "c"
   ]
  },
  {
   "cell_type": "code",
   "execution_count": 47,
   "id": "f718fda0-8756-4634-8440-95e62a6c019b",
   "metadata": {},
   "outputs": [],
   "source": [
    "c *= 2"
   ]
  },
  {
   "cell_type": "code",
   "execution_count": 49,
   "id": "798741ad-1301-4d73-a857-6c0ea8101ac6",
   "metadata": {},
   "outputs": [
    {
     "data": {
      "text/plain": [
       "24"
      ]
     },
     "execution_count": 49,
     "metadata": {},
     "output_type": "execute_result"
    }
   ],
   "source": [
    "c"
   ]
  },
  {
   "cell_type": "markdown",
   "id": "52307cbf-6163-4172-a622-7cbf0330d211",
   "metadata": {},
   "source": [
    "### Logical Operator (True, False, and, or not)"
   ]
  },
  {
   "cell_type": "code",
   "execution_count": 52,
   "id": "8c7b938a-14b4-4598-8b2b-912623ca319b",
   "metadata": {},
   "outputs": [
    {
     "data": {
      "text/plain": [
       "True"
      ]
     },
     "execution_count": 52,
     "metadata": {},
     "output_type": "execute_result"
    }
   ],
   "source": [
    "a > b"
   ]
  },
  {
   "cell_type": "code",
   "execution_count": 54,
   "id": "2794a156-319c-4fed-9563-71b963547420",
   "metadata": {},
   "outputs": [
    {
     "data": {
      "text/plain": [
       "False"
      ]
     },
     "execution_count": 54,
     "metadata": {},
     "output_type": "execute_result"
    }
   ],
   "source": [
    "a < b"
   ]
  },
  {
   "cell_type": "code",
   "execution_count": 56,
   "id": "cab84758-f0d3-4c42-ae83-7f8406ccff19",
   "metadata": {},
   "outputs": [
    {
     "data": {
      "text/plain": [
       "False"
      ]
     },
     "execution_count": 56,
     "metadata": {},
     "output_type": "execute_result"
    }
   ],
   "source": [
    "a > b and a < b"
   ]
  },
  {
   "cell_type": "code",
   "execution_count": 58,
   "id": "04982434-3295-49ed-a658-26e55771c8dd",
   "metadata": {},
   "outputs": [
    {
     "data": {
      "text/plain": [
       "10"
      ]
     },
     "execution_count": 58,
     "metadata": {},
     "output_type": "execute_result"
    }
   ],
   "source": [
    " a"
   ]
  },
  {
   "cell_type": "code",
   "execution_count": 60,
   "id": "302c7498-4bd4-4d22-a920-6f551b31a726",
   "metadata": {},
   "outputs": [
    {
     "data": {
      "text/plain": [
       "2"
      ]
     },
     "execution_count": 60,
     "metadata": {},
     "output_type": "execute_result"
    }
   ],
   "source": [
    "b"
   ]
  },
  {
   "cell_type": "code",
   "execution_count": 62,
   "id": "39a52b22-aa9f-4d33-8a4b-6b6ac05abdcf",
   "metadata": {},
   "outputs": [
    {
     "data": {
      "text/plain": [
       "True"
      ]
     },
     "execution_count": 62,
     "metadata": {},
     "output_type": "execute_result"
    }
   ],
   "source": [
    "a > b and a != b "
   ]
  },
  {
   "cell_type": "code",
   "execution_count": 64,
   "id": "674f1164-5fe6-4b08-9951-2bc4de6d09ae",
   "metadata": {},
   "outputs": [
    {
     "data": {
      "text/plain": [
       "True"
      ]
     },
     "execution_count": 64,
     "metadata": {},
     "output_type": "execute_result"
    }
   ],
   "source": [
    "a > b or  a < b"
   ]
  },
  {
   "cell_type": "code",
   "execution_count": null,
   "id": "438a754f-77ea-44c2-82a9-0d7d02ac2547",
   "metadata": {},
   "outputs": [],
   "source": [
    "# T + F or T + T  or F + T ----> T"
   ]
  },
  {
   "cell_type": "markdown",
   "id": "079ac593-ebc4-4144-80a3-53255ea54ebd",
   "metadata": {},
   "source": [
    "#### memebership Operator (in, not in)"
   ]
  },
  {
   "cell_type": "code",
   "execution_count": 67,
   "id": "6b4b304a-f3db-4e39-818d-f004bba4c9b5",
   "metadata": {},
   "outputs": [
    {
     "data": {
      "text/plain": [
       "[1, 2, 3, 4, 5]"
      ]
     },
     "execution_count": 67,
     "metadata": {},
     "output_type": "execute_result"
    }
   ],
   "source": [
    "a = [1,2,3,4,5]\n",
    "a"
   ]
  },
  {
   "cell_type": "code",
   "execution_count": 69,
   "id": "7e252c2b-85fe-4c22-a472-1194dfdc4c27",
   "metadata": {},
   "outputs": [
    {
     "data": {
      "text/plain": [
       "list"
      ]
     },
     "execution_count": 69,
     "metadata": {},
     "output_type": "execute_result"
    }
   ],
   "source": [
    "type(a)"
   ]
  },
  {
   "cell_type": "code",
   "execution_count": 71,
   "id": "e32d0a35-e113-4d58-8b2f-bcf47c9afa5e",
   "metadata": {},
   "outputs": [
    {
     "data": {
      "text/plain": [
       "True"
      ]
     },
     "execution_count": 71,
     "metadata": {},
     "output_type": "execute_result"
    }
   ],
   "source": [
    "4 in a"
   ]
  },
  {
   "cell_type": "code",
   "execution_count": 73,
   "id": "b73905be-b1ff-48df-af5e-7a7d2cd80d21",
   "metadata": {},
   "outputs": [
    {
     "data": {
      "text/plain": [
       "False"
      ]
     },
     "execution_count": 73,
     "metadata": {},
     "output_type": "execute_result"
    }
   ],
   "source": [
    "8 in a"
   ]
  },
  {
   "cell_type": "markdown",
   "id": "ad0075f4-c83c-4d56-a373-e4714f40a0b2",
   "metadata": {},
   "source": [
    "### Identity Operator (is, isnot)"
   ]
  },
  {
   "cell_type": "code",
   "execution_count": 76,
   "id": "0b8d36e6-052b-436d-9439-cd009d3a43ba",
   "metadata": {},
   "outputs": [
    {
     "data": {
      "text/plain": [
       "24"
      ]
     },
     "execution_count": 76,
     "metadata": {},
     "output_type": "execute_result"
    }
   ],
   "source": [
    "c "
   ]
  },
  {
   "cell_type": "code",
   "execution_count": 80,
   "id": "18facfd6-5b46-462e-a833-2a66ff815ee8",
   "metadata": {},
   "outputs": [],
   "source": [
    "d = 2"
   ]
  },
  {
   "cell_type": "code",
   "execution_count": 82,
   "id": "11622801-23ed-4b04-81a7-81afea9e7cd6",
   "metadata": {},
   "outputs": [
    {
     "data": {
      "text/plain": [
       "2"
      ]
     },
     "execution_count": 82,
     "metadata": {},
     "output_type": "execute_result"
    }
   ],
   "source": [
    "d "
   ]
  },
  {
   "cell_type": "code",
   "execution_count": 84,
   "id": "2e89f769-9d9f-45d8-b67d-7f9db3938372",
   "metadata": {},
   "outputs": [
    {
     "data": {
      "text/plain": [
       "False"
      ]
     },
     "execution_count": 84,
     "metadata": {},
     "output_type": "execute_result"
    }
   ],
   "source": [
    "c is d"
   ]
  },
  {
   "cell_type": "code",
   "execution_count": 88,
   "id": "64169275-5f7a-4a47-94d2-cf0fa36e5a31",
   "metadata": {},
   "outputs": [
    {
     "data": {
      "text/plain": [
       "True"
      ]
     },
     "execution_count": 88,
     "metadata": {},
     "output_type": "execute_result"
    }
   ],
   "source": [
    "c is not d"
   ]
  },
  {
   "cell_type": "code",
   "execution_count": 92,
   "id": "5b2a4038-8ea3-4c83-8f62-4d05996adced",
   "metadata": {},
   "outputs": [],
   "source": [
    " a= 10\n",
    "b = 2"
   ]
  },
  {
   "cell_type": "code",
   "execution_count": 94,
   "id": "b9204e50-090b-4737-ac97-a9561d851c28",
   "metadata": {},
   "outputs": [
    {
     "data": {
      "text/plain": [
       "10"
      ]
     },
     "execution_count": 94,
     "metadata": {},
     "output_type": "execute_result"
    }
   ],
   "source": [
    "a "
   ]
  },
  {
   "cell_type": "code",
   "execution_count": 96,
   "id": "fd2f1b0d-5572-4871-ba0e-1eee056fb1e7",
   "metadata": {},
   "outputs": [
    {
     "data": {
      "text/plain": [
       "2"
      ]
     },
     "execution_count": 96,
     "metadata": {},
     "output_type": "execute_result"
    }
   ],
   "source": [
    "b"
   ]
  },
  {
   "cell_type": "code",
   "execution_count": 98,
   "id": "3a1b50f0-fcf4-457c-ae7a-30a28012228f",
   "metadata": {},
   "outputs": [
    {
     "data": {
      "text/plain": [
       "False"
      ]
     },
     "execution_count": 98,
     "metadata": {},
     "output_type": "execute_result"
    }
   ],
   "source": [
    "a > b and a < b"
   ]
  },
  {
   "cell_type": "code",
   "execution_count": null,
   "id": "dee68137-338d-4fd4-9333-6357e816bdaf",
   "metadata": {},
   "outputs": [],
   "source": []
  }
 ],
 "metadata": {
  "kernelspec": {
   "display_name": "Python 3 (ipykernel)",
   "language": "python",
   "name": "python3"
  },
  "language_info": {
   "codemirror_mode": {
    "name": "ipython",
    "version": 3
   },
   "file_extension": ".py",
   "mimetype": "text/x-python",
   "name": "python",
   "nbconvert_exporter": "python",
   "pygments_lexer": "ipython3",
   "version": "3.12.4"
  }
 },
 "nbformat": 4,
 "nbformat_minor": 5
}
