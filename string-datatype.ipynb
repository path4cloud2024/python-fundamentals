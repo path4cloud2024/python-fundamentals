{
 "cells": [
  {
   "cell_type": "markdown",
   "id": "49bd4b32-b3d8-46ef-9d4c-cf9d4afb17a3",
   "metadata": {},
   "source": [
    "### String Data Type in Python"
   ]
  },
  {
   "cell_type": "code",
   "execution_count": 2,
   "id": "87238c0d-3af8-476e-b6d5-119dadca790c",
   "metadata": {},
   "outputs": [],
   "source": [
    "name=\"Path4Cloud\""
   ]
  },
  {
   "cell_type": "code",
   "execution_count": 8,
   "id": "4025c4ac-ee7c-4b9f-b5cf-920f8694132c",
   "metadata": {},
   "outputs": [],
   "source": [
    "Python=\"is a funny lang\"\n",
    "Name=Python"
   ]
  },
  {
   "cell_type": "code",
   "execution_count": 10,
   "id": "cef7a3b7-8faf-4ecd-9bbb-e92a07b42695",
   "metadata": {},
   "outputs": [
    {
     "data": {
      "text/plain": [
       "'is a funny lang'"
      ]
     },
     "execution_count": 10,
     "metadata": {},
     "output_type": "execute_result"
    }
   ],
   "source": [
    "Name"
   ]
  },
  {
   "cell_type": "code",
   "execution_count": 12,
   "id": "8eb38ce9-d23f-42d6-8e8e-af5d0a0fafae",
   "metadata": {},
   "outputs": [
    {
     "data": {
      "text/plain": [
       "'Path4Cloud'"
      ]
     },
     "execution_count": 12,
     "metadata": {},
     "output_type": "execute_result"
    }
   ],
   "source": [
    "name"
   ]
  },
  {
   "cell_type": "code",
   "execution_count": 14,
   "id": "3ff106d4-2c6f-43cc-a1cb-34eb812ccdbd",
   "metadata": {},
   "outputs": [
    {
     "data": {
      "text/plain": [
       "10"
      ]
     },
     "execution_count": 14,
     "metadata": {},
     "output_type": "execute_result"
    }
   ],
   "source": [
    "len(name)"
   ]
  },
  {
   "cell_type": "code",
   "execution_count": 16,
   "id": "0db6c1ee-18c5-4923-82a3-e536cef64513",
   "metadata": {},
   "outputs": [
    {
     "data": {
      "text/plain": [
       "'4'"
      ]
     },
     "execution_count": 16,
     "metadata": {},
     "output_type": "execute_result"
    }
   ],
   "source": [
    "name[4]"
   ]
  },
  {
   "cell_type": "code",
   "execution_count": 18,
   "id": "a202978e-21fa-4d7d-8b67-8f8fae4b836c",
   "metadata": {},
   "outputs": [
    {
     "data": {
      "text/plain": [
       "'C'"
      ]
     },
     "execution_count": 18,
     "metadata": {},
     "output_type": "execute_result"
    }
   ],
   "source": [
    "name[5]"
   ]
  },
  {
   "cell_type": "code",
   "execution_count": 20,
   "id": "3467e302-6abd-4d61-9739-02fdc9b2fcf5",
   "metadata": {},
   "outputs": [
    {
     "data": {
      "text/plain": [
       "'o'"
      ]
     },
     "execution_count": 20,
     "metadata": {},
     "output_type": "execute_result"
    }
   ],
   "source": [
    "name[7]"
   ]
  },
  {
   "cell_type": "code",
   "execution_count": 22,
   "id": "7d858f5d-af3d-4b9f-af5e-38ce828c158b",
   "metadata": {},
   "outputs": [
    {
     "ename": "IndexError",
     "evalue": "string index out of range",
     "output_type": "error",
     "traceback": [
      "\u001b[1;31m---------------------------------------------------------------------------\u001b[0m",
      "\u001b[1;31mIndexError\u001b[0m                                Traceback (most recent call last)",
      "Cell \u001b[1;32mIn[22], line 1\u001b[0m\n\u001b[1;32m----> 1\u001b[0m name[\u001b[38;5;241m1000\u001b[39m]\n",
      "\u001b[1;31mIndexError\u001b[0m: string index out of range"
     ]
    }
   ],
   "source": [
    "name[1000]"
   ]
  },
  {
   "cell_type": "code",
   "execution_count": 154,
   "id": "e4dfa131-5fd7-4914-b9a9-dc6cb8727caf",
   "metadata": {},
   "outputs": [
    {
     "data": {
      "text/plain": [
       "'t'"
      ]
     },
     "execution_count": 154,
     "metadata": {},
     "output_type": "execute_result"
    }
   ],
   "source": [
    "name[2:3:4]"
   ]
  },
  {
   "cell_type": "code",
   "execution_count": 26,
   "id": "5b1a934b-5868-4060-833a-a23cf63d50db",
   "metadata": {},
   "outputs": [
    {
     "data": {
      "text/plain": [
       "'th'"
      ]
     },
     "execution_count": 26,
     "metadata": {},
     "output_type": "execute_result"
    }
   ],
   "source": [
    "name[2:4]"
   ]
  },
  {
   "cell_type": "code",
   "execution_count": 28,
   "id": "c3ff2b33-9f8b-49cc-9643-35c5dbaa6b83",
   "metadata": {},
   "outputs": [
    {
     "data": {
      "text/plain": [
       "'Path4Cloud'"
      ]
     },
     "execution_count": 28,
     "metadata": {},
     "output_type": "execute_result"
    }
   ],
   "source": [
    "name"
   ]
  },
  {
   "cell_type": "code",
   "execution_count": 30,
   "id": "a867fc97-b702-4c2d-8734-8318768aecc1",
   "metadata": {},
   "outputs": [
    {
     "data": {
      "text/plain": [
       "'d'"
      ]
     },
     "execution_count": 30,
     "metadata": {},
     "output_type": "execute_result"
    }
   ],
   "source": [
    "name[-1]"
   ]
  },
  {
   "cell_type": "code",
   "execution_count": 32,
   "id": "142319c1-beda-49a4-a88e-f87c1610df4f",
   "metadata": {},
   "outputs": [
    {
     "data": {
      "text/plain": [
       "'o'"
      ]
     },
     "execution_count": 32,
     "metadata": {},
     "output_type": "execute_result"
    }
   ],
   "source": [
    "name[-3]"
   ]
  },
  {
   "cell_type": "code",
   "execution_count": 34,
   "id": "f028c18e-1e26-451f-bd7e-577415b9375d",
   "metadata": {},
   "outputs": [
    {
     "data": {
      "text/plain": [
       "'Path4Cloud'"
      ]
     },
     "execution_count": 34,
     "metadata": {},
     "output_type": "execute_result"
    }
   ],
   "source": [
    "name"
   ]
  },
  {
   "cell_type": "code",
   "execution_count": 36,
   "id": "c405cdc0-6b5d-43f4-b4d9-52957831f818",
   "metadata": {},
   "outputs": [
    {
     "data": {
      "text/plain": [
       "'PATH4CLOUD'"
      ]
     },
     "execution_count": 36,
     "metadata": {},
     "output_type": "execute_result"
    }
   ],
   "source": [
    "name.upper()"
   ]
  },
  {
   "cell_type": "code",
   "execution_count": 38,
   "id": "6637f8f0-8cef-4859-8ab4-e8f188f13482",
   "metadata": {},
   "outputs": [
    {
     "data": {
      "text/plain": [
       "'path4cloud'"
      ]
     },
     "execution_count": 38,
     "metadata": {},
     "output_type": "execute_result"
    }
   ],
   "source": [
    "name.lower()"
   ]
  },
  {
   "cell_type": "code",
   "execution_count": 54,
   "id": "5969a446-6ea5-4c71-83a7-834a165b964d",
   "metadata": {},
   "outputs": [],
   "source": [
    "name=name.replace('Cloud','python')"
   ]
  },
  {
   "cell_type": "code",
   "execution_count": 56,
   "id": "d0c167bc-7ef7-40c1-aca3-6cfcd5d81c60",
   "metadata": {},
   "outputs": [
    {
     "data": {
      "text/plain": [
       "'Path4python'"
      ]
     },
     "execution_count": 56,
     "metadata": {},
     "output_type": "execute_result"
    }
   ],
   "source": [
    "a"
   ]
  },
  {
   "cell_type": "code",
   "execution_count": 60,
   "id": "98cb77bd-7f6d-4a8c-8cea-a64ac7b8fc83",
   "metadata": {},
   "outputs": [
    {
     "data": {
      "text/plain": [
       "'Path4python'"
      ]
     },
     "execution_count": 60,
     "metadata": {},
     "output_type": "execute_result"
    }
   ],
   "source": [
    "name"
   ]
  },
  {
   "cell_type": "markdown",
   "id": "0782cafa-2b51-4c1e-b3b1-cc9208cdc9c8",
   "metadata": {},
   "source": [
    "# Bonus Information on String"
   ]
  },
  {
   "cell_type": "code",
   "execution_count": 85,
   "id": "f7fb955f-d401-45e1-97ad-300f1c06768f",
   "metadata": {},
   "outputs": [],
   "source": [
    "single='I am a single quotes sting'"
   ]
  },
  {
   "cell_type": "code",
   "execution_count": 88,
   "id": "1cabd26c-7f9f-409d-b109-0f6d51ee5244",
   "metadata": {},
   "outputs": [],
   "source": [
    "double=\"I am a double quotes sting\""
   ]
  },
  {
   "cell_type": "code",
   "execution_count": 90,
   "id": "26c29748-0934-4384-9188-374a6eeae28f",
   "metadata": {},
   "outputs": [],
   "source": [
    "tripe=\"\"\"I am triple quotes sting\"\"\""
   ]
  },
  {
   "cell_type": "code",
   "execution_count": 96,
   "id": "660b3d54-c7ff-451f-9132-a59eb720872b",
   "metadata": {},
   "outputs": [
    {
     "data": {
      "text/plain": [
       "'I am a single quotes sting'"
      ]
     },
     "execution_count": 96,
     "metadata": {},
     "output_type": "execute_result"
    }
   ],
   "source": [
    "single"
   ]
  },
  {
   "cell_type": "code",
   "execution_count": 100,
   "id": "6691e883-c204-498d-acce-a9173872b883",
   "metadata": {},
   "outputs": [
    {
     "data": {
      "text/plain": [
       "'I am a double quotes sting'"
      ]
     },
     "execution_count": 100,
     "metadata": {},
     "output_type": "execute_result"
    }
   ],
   "source": [
    "double"
   ]
  },
  {
   "cell_type": "code",
   "execution_count": 104,
   "id": "4c5a3a05-90b2-4da8-a2fa-9ae8612ed3dd",
   "metadata": {},
   "outputs": [
    {
     "data": {
      "text/plain": [
       "'I am triple quotes sting'"
      ]
     },
     "execution_count": 104,
     "metadata": {},
     "output_type": "execute_result"
    }
   ],
   "source": [
    "tripe"
   ]
  },
  {
   "cell_type": "code",
   "execution_count": 118,
   "id": "2c7ee052-ef3e-48e8-a205-35af88622037",
   "metadata": {},
   "outputs": [],
   "source": [
    "multiline=\"\"\"hello learner\n",
    "Welcome to Path4Cloud\n",
    "We are learning python here\"\"\""
   ]
  },
  {
   "cell_type": "code",
   "execution_count": 120,
   "id": "9c283946-da0b-47dc-84bd-a5eca6ad614b",
   "metadata": {},
   "outputs": [
    {
     "data": {
      "text/plain": [
       "'hello learner\\nWelcome to Path4Cloud\\nWe are learning python here'"
      ]
     },
     "execution_count": 120,
     "metadata": {},
     "output_type": "execute_result"
    }
   ],
   "source": [
    "multiline"
   ]
  },
  {
   "cell_type": "code",
   "execution_count": 122,
   "id": "8cc941bf-8d6e-41bb-81f5-875eca9ca0a6",
   "metadata": {},
   "outputs": [
    {
     "name": "stdout",
     "output_type": "stream",
     "text": [
      "hello learner\n",
      "Welcome to Path4Cloud\n",
      "We are learning python here\n"
     ]
    }
   ],
   "source": [
    "print(multiline)"
   ]
  },
  {
   "cell_type": "markdown",
   "id": "e30aa0be-709e-4c9d-b7d1-2c0bccdbdba6",
   "metadata": {},
   "source": [
    "### Sepacila charachter"
   ]
  },
  {
   "cell_type": "code",
   "execution_count": 131,
   "id": "e8f83945-e585-4d6d-8155-74a64306d191",
   "metadata": {},
   "outputs": [],
   "source": [
    "one=\"I am Anuj's freind\""
   ]
  },
  {
   "cell_type": "code",
   "execution_count": 133,
   "id": "f0053b48-76ef-442e-95da-5b68b3ef3beb",
   "metadata": {},
   "outputs": [
    {
     "data": {
      "text/plain": [
       "\"I am Anuj's freind\""
      ]
     },
     "execution_count": 133,
     "metadata": {},
     "output_type": "execute_result"
    }
   ],
   "source": [
    "one"
   ]
  },
  {
   "cell_type": "code",
   "execution_count": 136,
   "id": "419fa807-4d58-42ac-ac4c-7643457264bf",
   "metadata": {},
   "outputs": [],
   "source": [
    "two='I am working with my \"OWN\"'"
   ]
  },
  {
   "cell_type": "code",
   "execution_count": 138,
   "id": "e7e0272b-c47f-40d0-9923-971c05b0c098",
   "metadata": {},
   "outputs": [
    {
     "data": {
      "text/plain": [
       "'I am working with my \"OWN\"'"
      ]
     },
     "execution_count": 138,
     "metadata": {},
     "output_type": "execute_result"
    }
   ],
   "source": [
    "two"
   ]
  },
  {
   "cell_type": "code",
   "execution_count": 140,
   "id": "650d2bb6-93d5-490c-b08b-9c786f775847",
   "metadata": {},
   "outputs": [],
   "source": [
    "three=\"\"\" I am Anuj's friend and workig my \"own\" place. \"\"\""
   ]
  },
  {
   "cell_type": "code",
   "execution_count": 142,
   "id": "36c3b299-6859-43d5-a3ce-5f6daba64fd3",
   "metadata": {},
   "outputs": [
    {
     "data": {
      "text/plain": [
       "' I am Anuj\\'s friend and workig my \"own\" place. '"
      ]
     },
     "execution_count": 142,
     "metadata": {},
     "output_type": "execute_result"
    }
   ],
   "source": [
    "three"
   ]
  },
  {
   "cell_type": "code",
   "execution_count": 144,
   "id": "ad196bb1-213c-40e1-b45b-8ba16f12e5a8",
   "metadata": {},
   "outputs": [
    {
     "data": {
      "text/plain": [
       "'/root/tmp'"
      ]
     },
     "execution_count": 144,
     "metadata": {},
     "output_type": "execute_result"
    }
   ],
   "source": [
    "path=\"/root/tmp\"\n",
    "path"
   ]
  },
  {
   "cell_type": "code",
   "execution_count": 148,
   "id": "a9c2cc86-727c-4e89-988c-773144fa0d6c",
   "metadata": {},
   "outputs": [
    {
     "name": "stdout",
     "output_type": "stream",
     "text": [
      "c:\\users\\tmp\n"
     ]
    }
   ],
   "source": [
    "print(\"c:\\\\users\\\\tmp\")"
   ]
  },
  {
   "cell_type": "code",
   "execution_count": 152,
   "id": "a631d912-f1a3-4436-8690-d595336320cf",
   "metadata": {},
   "outputs": [
    {
     "data": {
      "text/plain": [
       "'I am Anuj\\'s friend and workig my \"own\" place. '"
      ]
     },
     "execution_count": 152,
     "metadata": {},
     "output_type": "execute_result"
    }
   ],
   "source": [
    "three=\"I am Anuj's friend and workig my \\\"own\\\" place. \"\n",
    "three"
   ]
  },
  {
   "cell_type": "code",
   "execution_count": null,
   "id": "015030fe-7190-464a-8e28-21f6f6f7db35",
   "metadata": {},
   "outputs": [],
   "source": []
  }
 ],
 "metadata": {
  "kernelspec": {
   "display_name": "Python 3 (ipykernel)",
   "language": "python",
   "name": "python3"
  },
  "language_info": {
   "codemirror_mode": {
    "name": "ipython",
    "version": 3
   },
   "file_extension": ".py",
   "mimetype": "text/x-python",
   "name": "python",
   "nbconvert_exporter": "python",
   "pygments_lexer": "ipython3",
   "version": "3.12.4"
  }
 },
 "nbformat": 4,
 "nbformat_minor": 5
}
