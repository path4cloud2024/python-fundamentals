{
 "cells": [
  {
   "cell_type": "markdown",
   "id": "35c9cec3-0a7a-4129-9526-9dd5aabae3f9",
   "metadata": {},
   "source": [
    "# Lists in Python"
   ]
  },
  {
   "cell_type": "code",
   "execution_count": 2,
   "id": "62afaa82-8694-4416-a11b-52ce073ee80c",
   "metadata": {},
   "outputs": [
    {
     "name": "stdout",
     "output_type": "stream",
     "text": [
      "[]\n"
     ]
    }
   ],
   "source": [
    "my= []\n",
    "print(my)"
   ]
  },
  {
   "cell_type": "code",
   "execution_count": 4,
   "id": "b2a906fa-22e2-4b1f-a372-402ba636add9",
   "metadata": {},
   "outputs": [
    {
     "data": {
      "text/plain": [
       "[]"
      ]
     },
     "execution_count": 4,
     "metadata": {},
     "output_type": "execute_result"
    }
   ],
   "source": [
    "list()"
   ]
  },
  {
   "cell_type": "code",
   "execution_count": 6,
   "id": "3a5c3626-eb35-47a1-a01a-2520625e5d85",
   "metadata": {},
   "outputs": [
    {
     "name": "stdout",
     "output_type": "stream",
     "text": [
      "<class 'list'>\n"
     ]
    }
   ],
   "source": [
    "print(list)"
   ]
  },
  {
   "cell_type": "code",
   "execution_count": 8,
   "id": "11b581ae-d686-4d43-bfa5-e3cc66a358b1",
   "metadata": {},
   "outputs": [
    {
     "data": {
      "text/plain": [
       "['Python', 'Azure', 'Jenkins', 'Docker']"
      ]
     },
     "execution_count": 8,
     "metadata": {},
     "output_type": "execute_result"
    }
   ],
   "source": [
    "course_list=['Python', 'Azure', 'Jenkins', 'Docker']\n",
    "course_list"
   ]
  },
  {
   "cell_type": "code",
   "execution_count": 10,
   "id": "89741dd9-7ce3-448a-9507-b398cc9009a8",
   "metadata": {},
   "outputs": [
    {
     "data": {
      "text/plain": [
       "list"
      ]
     },
     "execution_count": 10,
     "metadata": {},
     "output_type": "execute_result"
    }
   ],
   "source": [
    "type(course_list)"
   ]
  },
  {
   "cell_type": "code",
   "execution_count": 12,
   "id": "ff01ab83-8dc9-4cf4-8117-41f6013252af",
   "metadata": {},
   "outputs": [
    {
     "data": {
      "text/plain": [
       "'Azure'"
      ]
     },
     "execution_count": 12,
     "metadata": {},
     "output_type": "execute_result"
    }
   ],
   "source": [
    "course_list[1]"
   ]
  },
  {
   "cell_type": "code",
   "execution_count": 14,
   "id": "e4ba359e-7117-41c0-9aff-f7b66bb262f6",
   "metadata": {},
   "outputs": [
    {
     "ename": "IndexError",
     "evalue": "list index out of range",
     "output_type": "error",
     "traceback": [
      "\u001b[1;31m---------------------------------------------------------------------------\u001b[0m",
      "\u001b[1;31mIndexError\u001b[0m                                Traceback (most recent call last)",
      "Cell \u001b[1;32mIn[14], line 1\u001b[0m\n\u001b[1;32m----> 1\u001b[0m course_list[\u001b[38;5;241m4\u001b[39m]\n",
      "\u001b[1;31mIndexError\u001b[0m: list index out of range"
     ]
    }
   ],
   "source": [
    "course_list[4]"
   ]
  },
  {
   "cell_type": "code",
   "execution_count": 16,
   "id": "3741be5d-0c76-4f53-ba14-4598c69f844e",
   "metadata": {},
   "outputs": [
    {
     "data": {
      "text/plain": [
       "4"
      ]
     },
     "execution_count": 16,
     "metadata": {},
     "output_type": "execute_result"
    }
   ],
   "source": [
    "len(course_list)"
   ]
  },
  {
   "cell_type": "code",
   "execution_count": 18,
   "id": "0659c6ad-6f46-4a07-9092-2da0173c46bd",
   "metadata": {},
   "outputs": [
    {
     "data": {
      "text/plain": [
       "'Jenkins'"
      ]
     },
     "execution_count": 18,
     "metadata": {},
     "output_type": "execute_result"
    }
   ],
   "source": [
    "course_list[-2]"
   ]
  },
  {
   "cell_type": "code",
   "execution_count": 20,
   "id": "97c7c35d-2bab-46e2-8e72-6af2478fe3ed",
   "metadata": {},
   "outputs": [
    {
     "data": {
      "text/plain": [
       "['Amit', 2, 4.5]"
      ]
     },
     "execution_count": 20,
     "metadata": {},
     "output_type": "execute_result"
    }
   ],
   "source": [
    "new_list=['Amit', 2, 4.5]\n",
    "new_list"
   ]
  },
  {
   "cell_type": "code",
   "execution_count": 26,
   "id": "dddf0b3b-6aaf-4a4d-931d-c8d256e67fbb",
   "metadata": {},
   "outputs": [],
   "source": [
    "new_list[1] *= 2"
   ]
  },
  {
   "cell_type": "code",
   "execution_count": 28,
   "id": "44036069-e4e5-428c-a67e-79a024e62a54",
   "metadata": {},
   "outputs": [
    {
     "data": {
      "text/plain": [
       "['Amit', 4, 4.5]"
      ]
     },
     "execution_count": 28,
     "metadata": {},
     "output_type": "execute_result"
    }
   ],
   "source": [
    "new_list"
   ]
  },
  {
   "cell_type": "code",
   "execution_count": 30,
   "id": "df5c485f-87c7-4b22-b5e4-36a75e8e72a5",
   "metadata": {},
   "outputs": [],
   "source": [
    "num_list = [2,4,7,3,3,4,5,6,7,9]"
   ]
  },
  {
   "cell_type": "code",
   "execution_count": 32,
   "id": "4264fa9b-2b49-407f-baa2-273c1924bb9b",
   "metadata": {},
   "outputs": [
    {
     "data": {
      "text/plain": [
       "[2, 4, 7, 3, 3, 4, 5, 6, 7, 9]"
      ]
     },
     "execution_count": 32,
     "metadata": {},
     "output_type": "execute_result"
    }
   ],
   "source": [
    "num_list"
   ]
  },
  {
   "cell_type": "code",
   "execution_count": 34,
   "id": "68820692-0d34-4018-b8f3-db10254dadb6",
   "metadata": {},
   "outputs": [
    {
     "data": {
      "text/plain": [
       "50"
      ]
     },
     "execution_count": 34,
     "metadata": {},
     "output_type": "execute_result"
    }
   ],
   "source": [
    "sum(num_list)"
   ]
  },
  {
   "cell_type": "code",
   "execution_count": 36,
   "id": "52f9465f-928c-45cd-aae3-2e2850a4e147",
   "metadata": {},
   "outputs": [
    {
     "data": {
      "text/plain": [
       "2"
      ]
     },
     "execution_count": 36,
     "metadata": {},
     "output_type": "execute_result"
    }
   ],
   "source": [
    "min(num_list)"
   ]
  },
  {
   "cell_type": "code",
   "execution_count": 38,
   "id": "c51e592e-34af-4df5-9934-4ea8445d7195",
   "metadata": {},
   "outputs": [
    {
     "data": {
      "text/plain": [
       "9"
      ]
     },
     "execution_count": 38,
     "metadata": {},
     "output_type": "execute_result"
    }
   ],
   "source": [
    "max(num_list)"
   ]
  },
  {
   "cell_type": "code",
   "execution_count": 40,
   "id": "334b3818-f109-4e0e-a6fb-b1e8514944f8",
   "metadata": {},
   "outputs": [
    {
     "data": {
      "text/plain": [
       "['Python', 'Azure', 'Jenkins', 'Docker']"
      ]
     },
     "execution_count": 40,
     "metadata": {},
     "output_type": "execute_result"
    }
   ],
   "source": [
    "course_list"
   ]
  },
  {
   "cell_type": "code",
   "execution_count": 42,
   "id": "9c1c781b-ec10-4061-a416-6457d7612bd4",
   "metadata": {},
   "outputs": [
    {
     "data": {
      "text/plain": [
       "['Azure']"
      ]
     },
     "execution_count": 42,
     "metadata": {},
     "output_type": "execute_result"
    }
   ],
   "source": [
    "course_list[1:2]"
   ]
  },
  {
   "cell_type": "code",
   "execution_count": 44,
   "id": "0481d3a1-4501-44f4-baa8-4d3c1717dbc3",
   "metadata": {},
   "outputs": [
    {
     "data": {
      "text/plain": [
       "'Jenkins'"
      ]
     },
     "execution_count": 44,
     "metadata": {},
     "output_type": "execute_result"
    }
   ],
   "source": [
    "course_list[-2]"
   ]
  },
  {
   "cell_type": "code",
   "execution_count": 46,
   "id": "b495153b-c11b-48e1-b9d4-0f58d86ceb64",
   "metadata": {},
   "outputs": [],
   "source": [
    "course_list.append(\"AWS\")"
   ]
  },
  {
   "cell_type": "code",
   "execution_count": 48,
   "id": "117eb70c-83c9-49dc-88c4-55bebe50dccc",
   "metadata": {},
   "outputs": [
    {
     "data": {
      "text/plain": [
       "['Python', 'Azure', 'Jenkins', 'Docker', 'AWS']"
      ]
     },
     "execution_count": 48,
     "metadata": {},
     "output_type": "execute_result"
    }
   ],
   "source": [
    "course_list"
   ]
  },
  {
   "cell_type": "code",
   "execution_count": 50,
   "id": "05b24616-133c-4093-97d4-5398c4565eef",
   "metadata": {},
   "outputs": [],
   "source": [
    "course_list.insert(1, \"Bash\")"
   ]
  },
  {
   "cell_type": "code",
   "execution_count": 52,
   "id": "f01fefe2-ef3a-4c01-a3ab-94b0afb4ea83",
   "metadata": {},
   "outputs": [
    {
     "data": {
      "text/plain": [
       "['Python', 'Bash', 'Azure', 'Jenkins', 'Docker', 'AWS']"
      ]
     },
     "execution_count": 52,
     "metadata": {},
     "output_type": "execute_result"
    }
   ],
   "source": [
    "course_list"
   ]
  },
  {
   "cell_type": "code",
   "execution_count": 54,
   "id": "5b43259a-c171-4d4e-a888-dc7d0aeb9e50",
   "metadata": {},
   "outputs": [],
   "source": [
    "course_list.reverse()"
   ]
  },
  {
   "cell_type": "code",
   "execution_count": 56,
   "id": "cbd2e402-eb55-46c8-a334-8c699405dcca",
   "metadata": {},
   "outputs": [
    {
     "data": {
      "text/plain": [
       "['AWS', 'Docker', 'Jenkins', 'Azure', 'Bash', 'Python']"
      ]
     },
     "execution_count": 56,
     "metadata": {},
     "output_type": "execute_result"
    }
   ],
   "source": [
    "course_list"
   ]
  },
  {
   "cell_type": "code",
   "execution_count": 60,
   "id": "25743882-d55e-4191-9a91-8d20430e5bb3",
   "metadata": {},
   "outputs": [],
   "source": [
    "course_list.extend([\"Jira\", \"Terraform\", \"GCP\"])"
   ]
  },
  {
   "cell_type": "code",
   "execution_count": 62,
   "id": "24fff155-4cd8-468f-bdc3-4ea938e5c6e0",
   "metadata": {},
   "outputs": [
    {
     "data": {
      "text/plain": [
       "['AWS',\n",
       " 'Docker',\n",
       " 'Jenkins',\n",
       " 'Azure',\n",
       " 'Bash',\n",
       " 'Python',\n",
       " 'Jira',\n",
       " 'Terraform',\n",
       " 'GCP']"
      ]
     },
     "execution_count": 62,
     "metadata": {},
     "output_type": "execute_result"
    }
   ],
   "source": [
    "course_list"
   ]
  },
  {
   "cell_type": "code",
   "execution_count": 64,
   "id": "3dde2007-5b68-4b13-8e59-391dc2a45da7",
   "metadata": {},
   "outputs": [],
   "source": [
    "course_list.remove(\"Jira\")"
   ]
  },
  {
   "cell_type": "code",
   "execution_count": 66,
   "id": "0f07ffc5-3144-4ed7-bd05-4cd3fee224c3",
   "metadata": {},
   "outputs": [
    {
     "data": {
      "text/plain": [
       "['AWS', 'Docker', 'Jenkins', 'Azure', 'Bash', 'Python', 'Terraform', 'GCP']"
      ]
     },
     "execution_count": 66,
     "metadata": {},
     "output_type": "execute_result"
    }
   ],
   "source": [
    "course_list"
   ]
  },
  {
   "cell_type": "code",
   "execution_count": 68,
   "id": "3ededabe-d043-45ab-857d-1b2f3661401f",
   "metadata": {},
   "outputs": [
    {
     "ename": "ValueError",
     "evalue": "list.remove(x): x not in list",
     "output_type": "error",
     "traceback": [
      "\u001b[1;31m---------------------------------------------------------------------------\u001b[0m",
      "\u001b[1;31mValueError\u001b[0m                                Traceback (most recent call last)",
      "Cell \u001b[1;32mIn[68], line 1\u001b[0m\n\u001b[1;32m----> 1\u001b[0m course_list\u001b[38;5;241m.\u001b[39mremove(\u001b[38;5;124m\"\u001b[39m\u001b[38;5;124mpython\u001b[39m\u001b[38;5;124m\"\u001b[39m)\n",
      "\u001b[1;31mValueError\u001b[0m: list.remove(x): x not in list"
     ]
    }
   ],
   "source": [
    "course_list.remove(\"python\")"
   ]
  },
  {
   "cell_type": "code",
   "execution_count": 70,
   "id": "7ae0af73-dbb2-471f-baaf-5c5599e334c9",
   "metadata": {},
   "outputs": [
    {
     "data": {
      "text/plain": [
       "2"
      ]
     },
     "execution_count": 70,
     "metadata": {},
     "output_type": "execute_result"
    }
   ],
   "source": [
    "course_list.index(\"Jenkins\")"
   ]
  },
  {
   "cell_type": "code",
   "execution_count": 72,
   "id": "bf62584c-a4ea-451e-8962-1b0a54ddee9a",
   "metadata": {},
   "outputs": [
    {
     "data": {
      "text/plain": [
       "'GCP'"
      ]
     },
     "execution_count": 72,
     "metadata": {},
     "output_type": "execute_result"
    }
   ],
   "source": [
    "course_list.pop()"
   ]
  },
  {
   "cell_type": "code",
   "execution_count": 74,
   "id": "15ae5e47-e107-4c0e-88bc-07d54c7dd186",
   "metadata": {},
   "outputs": [
    {
     "data": {
      "text/plain": [
       "['AWS', 'Docker', 'Jenkins', 'Azure', 'Bash', 'Python', 'Terraform']"
      ]
     },
     "execution_count": 74,
     "metadata": {},
     "output_type": "execute_result"
    }
   ],
   "source": [
    "course_list"
   ]
  },
  {
   "cell_type": "code",
   "execution_count": 76,
   "id": "5d808aed-ace6-45fb-b053-b16157307aa1",
   "metadata": {},
   "outputs": [
    {
     "data": {
      "text/plain": [
       "True"
      ]
     },
     "execution_count": 76,
     "metadata": {},
     "output_type": "execute_result"
    }
   ],
   "source": [
    "\"Docker\" in course_list"
   ]
  },
  {
   "cell_type": "code",
   "execution_count": 78,
   "id": "e8acd1af-d009-46e4-9b83-b24ae595e345",
   "metadata": {},
   "outputs": [
    {
     "data": {
      "text/plain": [
       "False"
      ]
     },
     "execution_count": 78,
     "metadata": {},
     "output_type": "execute_result"
    }
   ],
   "source": [
    "\"docker\" in course_list"
   ]
  },
  {
   "cell_type": "code",
   "execution_count": 80,
   "id": "dab555af-f967-490a-905f-8bdcdf4a6630",
   "metadata": {},
   "outputs": [
    {
     "data": {
      "text/plain": [
       "[2, 4, 7, 3, 3, 4, 5, 6, 7, 9]"
      ]
     },
     "execution_count": 80,
     "metadata": {},
     "output_type": "execute_result"
    }
   ],
   "source": [
    "num_list"
   ]
  },
  {
   "cell_type": "code",
   "execution_count": 82,
   "id": "c616b10b-1619-402e-8e9a-6c2333217da9",
   "metadata": {},
   "outputs": [
    {
     "data": {
      "text/plain": [
       "['AWS', 'Docker', 'Jenkins', 'Azure', 'Bash', 'Python', 'Terraform']"
      ]
     },
     "execution_count": 82,
     "metadata": {},
     "output_type": "execute_result"
    }
   ],
   "source": [
    "course_list"
   ]
  },
  {
   "cell_type": "code",
   "execution_count": 84,
   "id": "5d986bc0-b1cc-4cd1-b9fd-13eb802dd572",
   "metadata": {},
   "outputs": [],
   "source": [
    "new_list= course_list + num_list"
   ]
  },
  {
   "cell_type": "code",
   "execution_count": 86,
   "id": "448fe49d-4d47-47be-9ab8-972fe1bc1cd7",
   "metadata": {},
   "outputs": [
    {
     "data": {
      "text/plain": [
       "['AWS',\n",
       " 'Docker',\n",
       " 'Jenkins',\n",
       " 'Azure',\n",
       " 'Bash',\n",
       " 'Python',\n",
       " 'Terraform',\n",
       " 2,\n",
       " 4,\n",
       " 7,\n",
       " 3,\n",
       " 3,\n",
       " 4,\n",
       " 5,\n",
       " 6,\n",
       " 7,\n",
       " 9]"
      ]
     },
     "execution_count": 86,
     "metadata": {},
     "output_type": "execute_result"
    }
   ],
   "source": [
    "new_list"
   ]
  },
  {
   "cell_type": "code",
   "execution_count": null,
   "id": "5f748272-3c3a-450e-a41c-94b5fa6de8de",
   "metadata": {},
   "outputs": [],
   "source": []
  }
 ],
 "metadata": {
  "kernelspec": {
   "display_name": "Python 3 (ipykernel)",
   "language": "python",
   "name": "python3"
  },
  "language_info": {
   "codemirror_mode": {
    "name": "ipython",
    "version": 3
   },
   "file_extension": ".py",
   "mimetype": "text/x-python",
   "name": "python",
   "nbconvert_exporter": "python",
   "pygments_lexer": "ipython3",
   "version": "3.12.4"
  }
 },
 "nbformat": 4,
 "nbformat_minor": 5
}
