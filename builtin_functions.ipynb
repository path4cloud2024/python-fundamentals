{
 "cells": [
  {
   "cell_type": "code",
   "execution_count": 1,
   "id": "bc1b1476-f1df-485b-85de-cdac51316b76",
   "metadata": {},
   "outputs": [
    {
     "name": "stdout",
     "output_type": "stream",
     "text": [
      "Hello from Path4Cloud!!!\n"
     ]
    }
   ],
   "source": [
    "# print\n",
    "\n",
    "print(\"Hello from Path4Cloud!!!\")"
   ]
  },
  {
   "cell_type": "code",
   "execution_count": 3,
   "id": "35a6ab21-37e3-45fe-8bee-7abf2e4e0f2a",
   "metadata": {},
   "outputs": [],
   "source": [
    "a = 1\n",
    "b = 2"
   ]
  },
  {
   "cell_type": "code",
   "execution_count": 5,
   "id": "428f5574-5929-476d-9688-d1e13a95d144",
   "metadata": {},
   "outputs": [
    {
     "name": "stdout",
     "output_type": "stream",
     "text": [
      "3\n"
     ]
    }
   ],
   "source": [
    "print(a+b)"
   ]
  },
  {
   "cell_type": "code",
   "execution_count": 7,
   "id": "4d05bf73-b48e-40e5-ac4c-a6b9bffd5477",
   "metadata": {},
   "outputs": [
    {
     "name": "stdout",
     "output_type": "stream",
     "text": [
      "the value of a is:  1\n"
     ]
    }
   ],
   "source": [
    "print(\"the value of a is: \", a)"
   ]
  },
  {
   "cell_type": "code",
   "execution_count": 11,
   "id": "50d34177-0b60-4b26-9e15-6e3b5d70302d",
   "metadata": {},
   "outputs": [],
   "source": [
    "name1=\"path4\""
   ]
  },
  {
   "cell_type": "code",
   "execution_count": 13,
   "id": "11de8091-0c5e-47c0-82da-d6ec64b413d3",
   "metadata": {},
   "outputs": [],
   "source": [
    "name2=\"cloud\""
   ]
  },
  {
   "cell_type": "code",
   "execution_count": 15,
   "id": "d33171f9-c794-4a2b-9aea-e6b1813db0fd",
   "metadata": {},
   "outputs": [
    {
     "name": "stdout",
     "output_type": "stream",
     "text": [
      "path4 cloud\n"
     ]
    }
   ],
   "source": [
    "print(name1, name2)"
   ]
  },
  {
   "cell_type": "code",
   "execution_count": 17,
   "id": "3af579da-e629-432a-966d-2f70d48d3119",
   "metadata": {},
   "outputs": [
    {
     "name": "stdout",
     "output_type": "stream",
     "text": [
      "Hello from path4cloud\n"
     ]
    }
   ],
   "source": [
    "print(\"Hello from {}{}\".format(\"path4\",\"cloud\"))"
   ]
  },
  {
   "cell_type": "code",
   "execution_count": 19,
   "id": "8b33931e-8b97-496d-ad8a-7562fc8ab03d",
   "metadata": {},
   "outputs": [
    {
     "ename": "IndexError",
     "evalue": "Replacement index 2 out of range for positional args tuple",
     "output_type": "error",
     "traceback": [
      "\u001b[1;31m---------------------------------------------------------------------------\u001b[0m",
      "\u001b[1;31mIndexError\u001b[0m                                Traceback (most recent call last)",
      "Cell \u001b[1;32mIn[19], line 1\u001b[0m\n\u001b[1;32m----> 1\u001b[0m \u001b[38;5;28mprint\u001b[39m(\u001b[38;5;124m\"\u001b[39m\u001b[38;5;124mHello from \u001b[39m\u001b[38;5;132;01m{}\u001b[39;00m\u001b[38;5;132;01m{}\u001b[39;00m\u001b[38;5;132;01m{}\u001b[39;00m\u001b[38;5;124m\"\u001b[39m\u001b[38;5;241m.\u001b[39mformat(\u001b[38;5;124m\"\u001b[39m\u001b[38;5;124mpath4\u001b[39m\u001b[38;5;124m\"\u001b[39m,\u001b[38;5;124m\"\u001b[39m\u001b[38;5;124mcloud\u001b[39m\u001b[38;5;124m\"\u001b[39m))\n",
      "\u001b[1;31mIndexError\u001b[0m: Replacement index 2 out of range for positional args tuple"
     ]
    }
   ],
   "source": [
    "print(\"Hello from {}{}{}\".format(\"path4\",\"cloud\"))"
   ]
  },
  {
   "cell_type": "code",
   "execution_count": 21,
   "id": "4ee93dff-f207-4ad4-84fc-39ff00882952",
   "metadata": {},
   "outputs": [
    {
     "name": "stdout",
     "output_type": "stream",
     "text": [
      "Hello from path4cloud\n"
     ]
    }
   ],
   "source": [
    "print(\"Hello from {}{}\".format(name1,name2))"
   ]
  },
  {
   "cell_type": "code",
   "execution_count": 25,
   "id": "0f2d814c-80be-4d9e-a822-a1ed5945fce3",
   "metadata": {},
   "outputs": [
    {
     "name": "stdout",
     "output_type": "stream",
     "text": [
      "Hello, from path4cloud\n"
     ]
    }
   ],
   "source": [
    "print(f\"Hello, from {name1}{name2}\")"
   ]
  },
  {
   "cell_type": "code",
   "execution_count": 35,
   "id": "a9e8219e-beb9-4113-b28f-f33871a85e20",
   "metadata": {},
   "outputs": [
    {
     "name": "stdout",
     "output_type": "stream",
     "text": [
      "Hello, from path4cloud:Class\n"
     ]
    }
   ],
   "source": [
    "print(f\"Hello, from {name1}{name2}\",\"Class\",sep=\":\")"
   ]
  },
  {
   "cell_type": "code",
   "execution_count": 37,
   "id": "f1c1f55a-57dd-45b1-9178-04fb217be269",
   "metadata": {},
   "outputs": [
    {
     "name": "stdout",
     "output_type": "stream",
     "text": [
      "Hello, from path4cloud Class*"
     ]
    }
   ],
   "source": [
    "print(f\"Hello, from {name1}{name2}\",\"Class\",end=\"*\")"
   ]
  },
  {
   "cell_type": "code",
   "execution_count": 39,
   "id": "460bef4e-dc60-41af-adc5-9a0835639873",
   "metadata": {},
   "outputs": [
    {
     "data": {
      "text/plain": [
       "str"
      ]
     },
     "execution_count": 39,
     "metadata": {},
     "output_type": "execute_result"
    }
   ],
   "source": [
    "type(name1)"
   ]
  },
  {
   "cell_type": "code",
   "execution_count": 41,
   "id": "be636087-9c0d-480b-883a-bec29c94f56b",
   "metadata": {},
   "outputs": [
    {
     "name": "stdout",
     "output_type": "stream",
     "text": [
      "Welcome to online python class\n"
     ]
    }
   ],
   "source": [
    "print"
   ]
  },
  {
   "cell_type": "code",
   "execution_count": 43,
   "id": "884cdfbf-6174-4359-b25f-d2fb0b4af549",
   "metadata": {},
   "outputs": [
    {
     "data": {
      "text/plain": [
       "30"
      ]
     },
     "execution_count": 43,
     "metadata": {},
     "output_type": "execute_result"
    }
   ],
   "source": [
    "len(\"Welcome to online python class\")"
   ]
  },
  {
   "cell_type": "code",
   "execution_count": 45,
   "id": "a3a80d4e-4f90-481e-bae0-fe79675d6065",
   "metadata": {},
   "outputs": [
    {
     "data": {
      "text/plain": [
       "7"
      ]
     },
     "execution_count": 45,
     "metadata": {},
     "output_type": "execute_result"
    }
   ],
   "source": [
    "len(\"abc def\")"
   ]
  },
  {
   "cell_type": "code",
   "execution_count": 49,
   "id": "30387196-38fe-4f14-a4b3-8a447957d937",
   "metadata": {},
   "outputs": [
    {
     "data": {
      "text/plain": [
       "845"
      ]
     },
     "execution_count": 49,
     "metadata": {},
     "output_type": "execute_result"
    }
   ],
   "source": [
    "max(2,3,7,9,6,845,4,5)"
   ]
  },
  {
   "cell_type": "code",
   "execution_count": 53,
   "id": "6bbbe690-44c2-4ee0-8262-0133c89427fa",
   "metadata": {},
   "outputs": [
    {
     "data": {
      "text/plain": [
       "6"
      ]
     },
     "execution_count": 53,
     "metadata": {},
     "output_type": "execute_result"
    }
   ],
   "source": [
    "round(6.2)"
   ]
  },
  {
   "cell_type": "code",
   "execution_count": 57,
   "id": "c08985e2-b779-498c-9ac6-3a96a587fd24",
   "metadata": {},
   "outputs": [
    {
     "data": {
      "text/plain": [
       "6"
      ]
     },
     "execution_count": 57,
     "metadata": {},
     "output_type": "execute_result"
    }
   ],
   "source": [
    "round(6.5)"
   ]
  },
  {
   "cell_type": "code",
   "execution_count": 61,
   "id": "cc1ac695-d593-4243-923d-1bea61fc0940",
   "metadata": {},
   "outputs": [
    {
     "data": {
      "text/plain": [
       "7"
      ]
     },
     "execution_count": 61,
     "metadata": {},
     "output_type": "execute_result"
    }
   ],
   "source": [
    "round(6.6)"
   ]
  },
  {
   "cell_type": "code",
   "execution_count": 63,
   "id": "6dc329b6-84d7-4d35-8d91-6cd623f39d15",
   "metadata": {},
   "outputs": [
    {
     "data": {
      "text/plain": [
       "7"
      ]
     },
     "execution_count": 63,
     "metadata": {},
     "output_type": "execute_result"
    }
   ],
   "source": [
    "round(6.9)"
   ]
  },
  {
   "cell_type": "code",
   "execution_count": 65,
   "id": "6c235b9c-164b-41d5-a0a2-5481b56e31bd",
   "metadata": {},
   "outputs": [
    {
     "data": {
      "text/plain": [
       "4.5"
      ]
     },
     "execution_count": 65,
     "metadata": {},
     "output_type": "execute_result"
    }
   ],
   "source": [
    "abs(4.5)"
   ]
  },
  {
   "cell_type": "code",
   "execution_count": 67,
   "id": "e8fe6f1f-f5cb-4c1c-b407-48ee8f62e6a9",
   "metadata": {},
   "outputs": [
    {
     "data": {
      "text/plain": [
       "7"
      ]
     },
     "execution_count": 67,
     "metadata": {},
     "output_type": "execute_result"
    }
   ],
   "source": [
    "abs(-7)"
   ]
  },
  {
   "cell_type": "code",
   "execution_count": 69,
   "id": "c9d526a5-0956-43a8-8ba0-23f29bc68b1f",
   "metadata": {},
   "outputs": [
    {
     "name": "stdin",
     "output_type": "stream",
     "text": [
      "Enter the name:  amit\n"
     ]
    },
    {
     "name": "stdout",
     "output_type": "stream",
     "text": [
      "amit\n"
     ]
    }
   ],
   "source": [
    "name3=input(\"Enter the name: \")\n",
    "print(name3)"
   ]
  },
  {
   "cell_type": "code",
   "execution_count": 81,
   "id": "a44b743b-f98a-49e5-8fb2-7fe163b9b2c6",
   "metadata": {},
   "outputs": [
    {
     "name": "stdin",
     "output_type": "stream",
     "text": [
      "Enter the name:  4.9\n"
     ]
    },
    {
     "name": "stdout",
     "output_type": "stream",
     "text": [
      "4.9\n"
     ]
    }
   ],
   "source": [
    "name4=float(input(\"Enter the name: \"))\n",
    "print(name4)"
   ]
  },
  {
   "cell_type": "code",
   "execution_count": 83,
   "id": "498e50e5-29a7-4f8c-abbb-8ea30b4ae974",
   "metadata": {},
   "outputs": [
    {
     "data": {
      "text/plain": [
       "float"
      ]
     },
     "execution_count": 83,
     "metadata": {},
     "output_type": "execute_result"
    }
   ],
   "source": [
    "type(name4)"
   ]
  },
  {
   "cell_type": "code",
   "execution_count": null,
   "id": "1a1ab612-8559-454d-b1e2-a04755e03b5e",
   "metadata": {},
   "outputs": [],
   "source": []
  }
 ],
 "metadata": {
  "kernelspec": {
   "display_name": "Python 3 (ipykernel)",
   "language": "python",
   "name": "python3"
  },
  "language_info": {
   "codemirror_mode": {
    "name": "ipython",
    "version": 3
   },
   "file_extension": ".py",
   "mimetype": "text/x-python",
   "name": "python",
   "nbconvert_exporter": "python",
   "pygments_lexer": "ipython3",
   "version": "3.12.4"
  }
 },
 "nbformat": 4,
 "nbformat_minor": 5
}
