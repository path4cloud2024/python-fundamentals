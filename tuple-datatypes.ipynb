{
 "cells": [
  {
   "cell_type": "markdown",
   "id": "f9e6efc1-1bb2-4ba7-8146-769c05f67f6f",
   "metadata": {},
   "source": [
    "# Tuple in python"
   ]
  },
  {
   "cell_type": "code",
   "execution_count": 2,
   "id": "94e6c62e-d294-4ac1-af78-65c51adeeb95",
   "metadata": {},
   "outputs": [
    {
     "name": "stdout",
     "output_type": "stream",
     "text": [
      "()\n"
     ]
    }
   ],
   "source": [
    "my_t=()\n",
    "print(my_t)"
   ]
  },
  {
   "cell_type": "code",
   "execution_count": 4,
   "id": "a18fc835-21a2-487a-adb3-12917ccd31e5",
   "metadata": {},
   "outputs": [
    {
     "data": {
      "text/plain": [
       "tuple"
      ]
     },
     "execution_count": 4,
     "metadata": {},
     "output_type": "execute_result"
    }
   ],
   "source": [
    "type(my_t)"
   ]
  },
  {
   "cell_type": "code",
   "execution_count": 6,
   "id": "1911f05e-f71a-4495-95b6-6d02d49e71ec",
   "metadata": {},
   "outputs": [],
   "source": [
    "new_t=(10,20,30,40,40)"
   ]
  },
  {
   "cell_type": "code",
   "execution_count": 8,
   "id": "f75cfe77-03ca-4c43-bb2a-34374d0f5003",
   "metadata": {},
   "outputs": [
    {
     "data": {
      "text/plain": [
       "(10, 20, 30, 40, 40)"
      ]
     },
     "execution_count": 8,
     "metadata": {},
     "output_type": "execute_result"
    }
   ],
   "source": [
    "new_t"
   ]
  },
  {
   "cell_type": "code",
   "execution_count": 10,
   "id": "a5f17226-3eb9-48e9-adeb-c09d92927f85",
   "metadata": {},
   "outputs": [
    {
     "data": {
      "text/plain": [
       "30"
      ]
     },
     "execution_count": 10,
     "metadata": {},
     "output_type": "execute_result"
    }
   ],
   "source": [
    "new_t[2]"
   ]
  },
  {
   "cell_type": "code",
   "execution_count": 12,
   "id": "fb3a88b4-a9a1-4c3c-adf5-dc1fddfc5109",
   "metadata": {},
   "outputs": [
    {
     "data": {
      "text/plain": [
       "5"
      ]
     },
     "execution_count": 12,
     "metadata": {},
     "output_type": "execute_result"
    }
   ],
   "source": [
    "len(new_t)"
   ]
  },
  {
   "cell_type": "code",
   "execution_count": 14,
   "id": "b90abdb0-e6ea-41fa-9fcd-4d737f2aed81",
   "metadata": {},
   "outputs": [
    {
     "data": {
      "text/plain": [
       "(40, 40, 30, 20, 10)"
      ]
     },
     "execution_count": 14,
     "metadata": {},
     "output_type": "execute_result"
    }
   ],
   "source": [
    "new_t[::-1]"
   ]
  },
  {
   "cell_type": "code",
   "execution_count": 16,
   "id": "6f27e6f9-6fb8-41f1-b404-fe64a5ffd163",
   "metadata": {},
   "outputs": [
    {
     "data": {
      "text/plain": [
       "True"
      ]
     },
     "execution_count": 16,
     "metadata": {},
     "output_type": "execute_result"
    }
   ],
   "source": [
    "30 in new_t"
   ]
  },
  {
   "cell_type": "code",
   "execution_count": 18,
   "id": "d7821ba3-3daa-4396-8511-8907f68f620d",
   "metadata": {},
   "outputs": [
    {
     "data": {
      "text/plain": [
       "False"
      ]
     },
     "execution_count": 18,
     "metadata": {},
     "output_type": "execute_result"
    }
   ],
   "source": [
    "300 in new_t"
   ]
  },
  {
   "cell_type": "markdown",
   "id": "2e8b1ced-0987-414b-85b7-ccf5430b7709",
   "metadata": {},
   "source": [
    "## Unpacking for tuple in python"
   ]
  },
  {
   "cell_type": "code",
   "execution_count": 21,
   "id": "335a010e-5cc4-4316-ab5a-88b1065dbec6",
   "metadata": {},
   "outputs": [],
   "source": [
    "score = (30, 65, 89)"
   ]
  },
  {
   "cell_type": "code",
   "execution_count": 23,
   "id": "57860bff-7834-4ad6-9a82-54e4d0e01214",
   "metadata": {},
   "outputs": [
    {
     "data": {
      "text/plain": [
       "(30, 65, 89)"
      ]
     },
     "execution_count": 23,
     "metadata": {},
     "output_type": "execute_result"
    }
   ],
   "source": [
    "score"
   ]
  },
  {
   "cell_type": "code",
   "execution_count": 25,
   "id": "047abff5-e3b9-42c1-ade1-d7481ef37c5d",
   "metadata": {},
   "outputs": [
    {
     "data": {
      "text/plain": [
       "30"
      ]
     },
     "execution_count": 25,
     "metadata": {},
     "output_type": "execute_result"
    }
   ],
   "source": [
    "score[0]"
   ]
  },
  {
   "cell_type": "code",
   "execution_count": 27,
   "id": "12568e53-cf8d-4f6d-8b56-292d94a92101",
   "metadata": {},
   "outputs": [],
   "source": [
    "eng, hindi, math = score"
   ]
  },
  {
   "cell_type": "code",
   "execution_count": 29,
   "id": "67c112b1-fdbf-4afc-bd9f-c19496ab3288",
   "metadata": {},
   "outputs": [
    {
     "data": {
      "text/plain": [
       "30"
      ]
     },
     "execution_count": 29,
     "metadata": {},
     "output_type": "execute_result"
    }
   ],
   "source": [
    "eng"
   ]
  },
  {
   "cell_type": "code",
   "execution_count": 31,
   "id": "a1953c46-d5a4-4b9e-a2a8-bbf05d87c7be",
   "metadata": {},
   "outputs": [
    {
     "data": {
      "text/plain": [
       "65"
      ]
     },
     "execution_count": 31,
     "metadata": {},
     "output_type": "execute_result"
    }
   ],
   "source": [
    "hindi"
   ]
  },
  {
   "cell_type": "code",
   "execution_count": 33,
   "id": "43da2da0-2681-4182-a1f0-0c20793df6bb",
   "metadata": {},
   "outputs": [
    {
     "data": {
      "text/plain": [
       "89"
      ]
     },
     "execution_count": 33,
     "metadata": {},
     "output_type": "execute_result"
    }
   ],
   "source": [
    "math"
   ]
  },
  {
   "cell_type": "code",
   "execution_count": 35,
   "id": "606ef318-2b24-47f5-a8c8-fac1cec01867",
   "metadata": {},
   "outputs": [],
   "source": [
    "mix =(\"amit\", 55.9, 34, False)"
   ]
  },
  {
   "cell_type": "code",
   "execution_count": 37,
   "id": "0dcfbcac-81b2-482e-b9af-acf832a7ac06",
   "metadata": {},
   "outputs": [
    {
     "data": {
      "text/plain": [
       "('amit', 55.9, 34, False)"
      ]
     },
     "execution_count": 37,
     "metadata": {},
     "output_type": "execute_result"
    }
   ],
   "source": [
    "mix"
   ]
  },
  {
   "cell_type": "code",
   "execution_count": 41,
   "id": "813fbfe9-8ed6-4cda-a22d-bc3b2a0eb6c4",
   "metadata": {},
   "outputs": [
    {
     "ename": "TypeError",
     "evalue": "'tuple' object does not support item assignment",
     "output_type": "error",
     "traceback": [
      "\u001b[1;31m---------------------------------------------------------------------------\u001b[0m",
      "\u001b[1;31mTypeError\u001b[0m                                 Traceback (most recent call last)",
      "Cell \u001b[1;32mIn[41], line 1\u001b[0m\n\u001b[1;32m----> 1\u001b[0m mix[\u001b[38;5;241m0\u001b[39m]\u001b[38;5;241m=\u001b[39m\u001b[38;5;124m\"\u001b[39m\u001b[38;5;124mKumar\u001b[39m\u001b[38;5;124m\"\u001b[39m\n",
      "\u001b[1;31mTypeError\u001b[0m: 'tuple' object does not support item assignment"
     ]
    }
   ],
   "source": [
    "mix[0]=\"Kumar\""
   ]
  },
  {
   "cell_type": "code",
   "execution_count": null,
   "id": "756317e2-4b96-4ea7-bfc6-2bdaa375d29e",
   "metadata": {},
   "outputs": [],
   "source": []
  }
 ],
 "metadata": {
  "kernelspec": {
   "display_name": "Python 3 (ipykernel)",
   "language": "python",
   "name": "python3"
  },
  "language_info": {
   "codemirror_mode": {
    "name": "ipython",
    "version": 3
   },
   "file_extension": ".py",
   "mimetype": "text/x-python",
   "name": "python",
   "nbconvert_exporter": "python",
   "pygments_lexer": "ipython3",
   "version": "3.12.4"
  }
 },
 "nbformat": 4,
 "nbformat_minor": 5
}
