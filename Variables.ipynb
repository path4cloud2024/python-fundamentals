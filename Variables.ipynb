{
 "cells": [
  {
   "cell_type": "markdown",
   "id": "b31a0afa-149c-42d3-8e86-9f16734df923",
   "metadata": {},
   "source": [
    "## Print function"
   ]
  },
  {
   "cell_type": "code",
   "execution_count": 61,
   "id": "102ef728-bd51-4ce1-8fe9-cb8de25239e2",
   "metadata": {},
   "outputs": [
    {
     "name": "stdout",
     "output_type": "stream",
     "text": [
      "Hello World!!\n"
     ]
    }
   ],
   "source": [
    "print(\"Hello World!!\") ## to print some message"
   ]
  },
  {
   "cell_type": "code",
   "execution_count": 7,
   "id": "b9e6a5a2-1763-4dfd-96ba-8763f3fda514",
   "metadata": {},
   "outputs": [
    {
     "name": "stdout",
     "output_type": "stream",
     "text": [
      "15\n"
     ]
    }
   ],
   "source": [
    "# Assigning values to variables and then printing\n",
    "a = 10\n",
    "b = 5\n",
    "print(a + b)"
   ]
  },
  {
   "cell_type": "code",
   "execution_count": 11,
   "id": "23e72213-86e7-4de9-85f2-a0aa8c500ce6",
   "metadata": {},
   "outputs": [
    {
     "name": "stdin",
     "output_type": "stream",
     "text": [
      "Enter the first value:  5\n"
     ]
    }
   ],
   "source": [
    "a=input(\"Enter the first value: \")"
   ]
  },
  {
   "cell_type": "markdown",
   "id": "00332534-8f3e-4acf-ab55-08c256470bc6",
   "metadata": {},
   "source": [
    "## Input function\n",
    "\n",
    "### To get the values from user"
   ]
  },
  {
   "cell_type": "code",
   "execution_count": 9,
   "id": "c81ecd5c-3e90-44d4-8711-b98d950837bb",
   "metadata": {},
   "outputs": [
    {
     "name": "stdout",
     "output_type": "stream",
     "text": [
      "The result of a and b is  15\n"
     ]
    }
   ],
   "source": [
    "print(\"The result of a and b is \", a+b)"
   ]
  },
  {
   "cell_type": "code",
   "execution_count": 13,
   "id": "baa1705d-b988-4340-868b-87b73f444c96",
   "metadata": {},
   "outputs": [
    {
     "data": {
      "text/plain": [
       "'5'"
      ]
     },
     "execution_count": 13,
     "metadata": {},
     "output_type": "execute_result"
    }
   ],
   "source": [
    "a"
   ]
  },
  {
   "cell_type": "code",
   "execution_count": 15,
   "id": "7235870e-d495-4962-bc18-dd2711371620",
   "metadata": {},
   "outputs": [
    {
     "name": "stdout",
     "output_type": "stream",
     "text": [
      "5\n"
     ]
    }
   ],
   "source": [
    "print(a)"
   ]
  },
  {
   "cell_type": "code",
   "execution_count": 17,
   "id": "caa20e27-9792-46c2-8607-b68f7d8216d1",
   "metadata": {},
   "outputs": [
    {
     "name": "stdin",
     "output_type": "stream",
     "text": [
      "Enter the second value:  7\n"
     ]
    }
   ],
   "source": [
    "b=input(\"Enter the second value: \")"
   ]
  },
  {
   "cell_type": "code",
   "execution_count": 67,
   "id": "3a7c4ae5-3e3b-43a8-ade9-07a26296085d",
   "metadata": {},
   "outputs": [
    {
     "name": "stdin",
     "output_type": "stream",
     "text": [
      "Enter the first value:  10\n",
      "Enter the second value:  2\n"
     ]
    },
    {
     "name": "stdout",
     "output_type": "stream",
     "text": [
      "The result of a and b is  102\n"
     ]
    }
   ],
   "source": [
    "# taking the input from user and storing to variables\n",
    "a=input(\"Enter the first value: \")\n",
    "b=input(\"Enter the second value: \")\n",
    "print(\"The result of a and b is \", a+b)\n"
   ]
  },
  {
   "cell_type": "code",
   "execution_count": 69,
   "id": "1f3724f9-2a74-41fd-8bc9-f94bd214edcb",
   "metadata": {},
   "outputs": [
    {
     "data": {
      "text/plain": [
       "str"
      ]
     },
     "execution_count": 69,
     "metadata": {},
     "output_type": "execute_result"
    }
   ],
   "source": [
    "type(b) ## By default, input function takes the value as string"
   ]
  },
  {
   "cell_type": "code",
   "execution_count": 29,
   "id": "7254234e-d466-433a-9327-85785bb0ff05",
   "metadata": {},
   "outputs": [
    {
     "name": "stdin",
     "output_type": "stream",
     "text": [
      "Enter the first value:  10\n",
      "Enter the second value:  2\n"
     ]
    },
    {
     "name": "stdout",
     "output_type": "stream",
     "text": [
      "The result of c and d is  12\n"
     ]
    }
   ],
   "source": [
    "## We need to convert the value to an integer with the int keyword as below to perform the math operation\n",
    "c=int(input(\"Enter the first value: \"))\n",
    "d=int(input(\"Enter the second value: \"))\n",
    "print(\"The result of c and d is \", c+d)"
   ]
  },
  {
   "cell_type": "markdown",
   "id": "8afbfe75-68b1-44f0-bf2f-66b0a6e142cf",
   "metadata": {},
   "source": [
    "# Variables\n",
    "## Rules to define the Variables\n",
    "\n",
    "#### 1) start with Alphabets and underscore\n",
    "#### 2) case sensitive\n",
    "#### 3) it must be a single word ( an_apple)\n",
    "#### 4) keyword is not accepted as varaible"
   ]
  },
  {
   "cell_type": "code",
   "execution_count": 31,
   "id": "e5394615-ee82-4eac-8adc-b285d80fda0f",
   "metadata": {},
   "outputs": [],
   "source": [
    "z= 2  "
   ]
  },
  {
   "cell_type": "code",
   "execution_count": 33,
   "id": "258623b0-6b9a-401e-8afb-95e0846a8926",
   "metadata": {},
   "outputs": [],
   "source": [
    "Z=4"
   ]
  },
  {
   "cell_type": "code",
   "execution_count": 35,
   "id": "0e3fc912-519c-44ca-b252-a72e318d6793",
   "metadata": {},
   "outputs": [
    {
     "data": {
      "text/plain": [
       "4"
      ]
     },
     "execution_count": 35,
     "metadata": {},
     "output_type": "execute_result"
    }
   ],
   "source": [
    "z\n",
    "Z"
   ]
  },
  {
   "cell_type": "code",
   "execution_count": 37,
   "id": "9f9bf968-cb13-4eab-a44a-a45d584eb0d2",
   "metadata": {},
   "outputs": [
    {
     "name": "stdout",
     "output_type": "stream",
     "text": [
      "2\n",
      "4\n"
     ]
    }
   ],
   "source": [
    "print(z)\n",
    "print(Z)"
   ]
  },
  {
   "cell_type": "code",
   "execution_count": 72,
   "id": "2aa5c362-8d88-4522-a26d-a28a5038e035",
   "metadata": {},
   "outputs": [
    {
     "ename": "SyntaxError",
     "evalue": "invalid decimal literal (3427195014.py, line 1)",
     "output_type": "error",
     "traceback": [
      "\u001b[1;36m  Cell \u001b[1;32mIn[72], line 1\u001b[1;36m\u001b[0m\n\u001b[1;33m    1amit=\"hello\" # can't start with numeric\u001b[0m\n\u001b[1;37m    ^\u001b[0m\n\u001b[1;31mSyntaxError\u001b[0m\u001b[1;31m:\u001b[0m invalid decimal literal\n"
     ]
    }
   ],
   "source": [
    "1amit=\"hello\" # can't start with numeric"
   ]
  },
  {
   "cell_type": "code",
   "execution_count": 74,
   "id": "7aa581b5-3d7b-4ccd-8730-844f39f16ce1",
   "metadata": {},
   "outputs": [
    {
     "ename": "SyntaxError",
     "evalue": "invalid syntax (247807280.py, line 1)",
     "output_type": "error",
     "traceback": [
      "\u001b[1;36m  Cell \u001b[1;32mIn[74], line 1\u001b[1;36m\u001b[0m\n\u001b[1;33m    &amit=\"hello\" # can't start with special symbol\u001b[0m\n\u001b[1;37m    ^\u001b[0m\n\u001b[1;31mSyntaxError\u001b[0m\u001b[1;31m:\u001b[0m invalid syntax\n"
     ]
    }
   ],
   "source": [
    "&amit=\"hello\" # can't start with special symbol"
   ]
  },
  {
   "cell_type": "code",
   "execution_count": 43,
   "id": "2e0829a0-180d-4cbf-8214-dd9d0f5e40a4",
   "metadata": {},
   "outputs": [],
   "source": [
    "greet=\"Hello\""
   ]
  },
  {
   "cell_type": "code",
   "execution_count": 45,
   "id": "e7618412-2088-4379-94cc-e75017d392d4",
   "metadata": {},
   "outputs": [
    {
     "data": {
      "text/plain": [
       "'Hello'"
      ]
     },
     "execution_count": 45,
     "metadata": {},
     "output_type": "execute_result"
    }
   ],
   "source": [
    "greet"
   ]
  },
  {
   "cell_type": "code",
   "execution_count": 47,
   "id": "9639bd68-11c5-4d63-b240-c8e2ebf16af3",
   "metadata": {},
   "outputs": [],
   "source": [
    "Greet=\"hello\""
   ]
  },
  {
   "cell_type": "code",
   "execution_count": 49,
   "id": "76d0cbdc-8d79-4148-ac27-4364dafaa3e8",
   "metadata": {},
   "outputs": [
    {
     "data": {
      "text/plain": [
       "'hello'"
      ]
     },
     "execution_count": 49,
     "metadata": {},
     "output_type": "execute_result"
    }
   ],
   "source": [
    "Greet"
   ]
  },
  {
   "cell_type": "code",
   "execution_count": 76,
   "id": "fd4950d6-fcfb-4740-88cc-4d2a6d564043",
   "metadata": {},
   "outputs": [],
   "source": [
    "x, y, z = 1, 2.5, \"hello\" ## another way to define the values to variables"
   ]
  },
  {
   "cell_type": "code",
   "execution_count": 53,
   "id": "b3d6319d-4a49-41a7-814e-372357266ac2",
   "metadata": {},
   "outputs": [
    {
     "name": "stdout",
     "output_type": "stream",
     "text": [
      "1\n",
      "2.5\n",
      "hello\n"
     ]
    }
   ],
   "source": [
    "print(x)\n",
    "print(y)\n",
    "print(z)"
   ]
  },
  {
   "cell_type": "markdown",
   "id": "0fc93efa-0e1d-44d6-ac6c-66a5a9c9ba3b",
   "metadata": {},
   "source": [
    "### Use type function to check the type of daya type for a variable"
   ]
  },
  {
   "cell_type": "code",
   "execution_count": 55,
   "id": "d3755762-fd15-4d22-b41a-1639df74a9ae",
   "metadata": {},
   "outputs": [
    {
     "data": {
      "text/plain": [
       "int"
      ]
     },
     "execution_count": 55,
     "metadata": {},
     "output_type": "execute_result"
    }
   ],
   "source": [
    "type(x) "
   ]
  },
  {
   "cell_type": "code",
   "execution_count": 57,
   "id": "c2931091-f2a5-4a5b-a7aa-83ee5a1bbdc7",
   "metadata": {},
   "outputs": [
    {
     "data": {
      "text/plain": [
       "float"
      ]
     },
     "execution_count": 57,
     "metadata": {},
     "output_type": "execute_result"
    }
   ],
   "source": [
    "type(y)"
   ]
  },
  {
   "cell_type": "code",
   "execution_count": 59,
   "id": "92994ca5-7d0f-4227-949e-0a46b59d28fa",
   "metadata": {},
   "outputs": [
    {
     "data": {
      "text/plain": [
       "str"
      ]
     },
     "execution_count": 59,
     "metadata": {},
     "output_type": "execute_result"
    }
   ],
   "source": [
    "type(z)"
   ]
  },
  {
   "cell_type": "code",
   "execution_count": null,
   "id": "b6f38e57-32c9-48e1-83ba-d6c5734ae529",
   "metadata": {},
   "outputs": [],
   "source": []
  }
 ],
 "metadata": {
  "kernelspec": {
   "display_name": "Python 3 (ipykernel)",
   "language": "python",
   "name": "python3"
  },
  "language_info": {
   "codemirror_mode": {
    "name": "ipython",
    "version": 3
   },
   "file_extension": ".py",
   "mimetype": "text/x-python",
   "name": "python",
   "nbconvert_exporter": "python",
   "pygments_lexer": "ipython3",
   "version": "3.12.4"
  }
 },
 "nbformat": 4,
 "nbformat_minor": 5
}
